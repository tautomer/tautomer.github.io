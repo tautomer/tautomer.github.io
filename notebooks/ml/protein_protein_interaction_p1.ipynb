{
 "cells": [
  {
   "cell_type": "markdown",
   "metadata": {},
   "source": [
    "# Predicting \"protein-protein interactions\" with neural networks"
   ]
  },
  {
   "cell_type": "markdown",
   "metadata": {},
   "source": [
    "# Part 1: parsing data\n",
    "\n",
    "Well, I recently review a manuscript on predicting the so-called\n",
    "\"protein-protein interactions\" with a convolutional neural network (CNN). The\n",
    "quality of the paper was exceptionally low, the authors are from different\n",
    "institutions that they are really unlikely to collaborate with each other. It is\n",
    "highly likely that the paper was from a [paper mill][paper mill]. Nonetheless,\n",
    "as I have never done formal research on biological system, the draft still\n",
    "helped to me know something in the field. I was really curious on the validity\n",
    "of their results and if I could achieve better predictions, so here it is.\n",
    "\n",
    "[paper mill]: https://spie.org/news/photonics-focus/julyaugust-2023/investigating-publication-fraud#_=_"
   ]
  },
  {
   "cell_type": "markdown",
   "metadata": {},
   "source": [
    "### What are they doing here\n",
    "\n",
    "They are basically doing a sequence based binary classification. Some protein\n",
    "pairs are divided into two categories, interacting paris and non-interacting\n",
    "pairs. As far as I understand, \"interacting\" means the two proteins can bind\n",
    "with each other, while \"non-interacting\" ones will repulse each other (if they\n",
    "are close enough).\n",
    "\n",
    "This problem sounds really trivial to me. You just have to process two strings\n",
    "(one-letter amino acid sequence of a protein is just a string) and classify them\n",
    "in two two group. I felt I should be able to get it done pretty quickly, so I\n",
    "started looking into it.\n",
    "\n",
    "I have attached the original notebook to this site and can be downloaded\n",
    "[here](/assets/codes/ppi.ipynb), so you can play with it yourself."
   ]
  },
  {
   "cell_type": "markdown",
   "metadata": {},
   "source": [
    "### The dataset\n",
    "\n",
    "They were dealing with several datasets from different sources, but focused on\n",
    "one dataset published by [a group from SJTU][sjtu].\n",
    "\n",
    "![Datasets](../../images/ml/ppi/sjtu.png)\n",
    "\n",
    "The two files used are supporting information A and B, for interacting and\n",
    "non-interacting pairs, respectively. As the names suggest, these files are SI\n",
    "for a certain paper. However, I have no idea who decided a MS Word document\n",
    "could be a good choice in this case.\n",
    "\n",
    "The two files consist of a header \n",
    "\n",
    "```text\n",
    "Online support information A\n",
    "There are 36,630 protein-protein pairs from total 9476 proteins, and the first column is protein ID from HPRD, the second column is the other protein ID and the two proteins constitute the positive Protein-protein interaction.\n",
    "\n",
    "Index        Protein_1_ID         protein_2_ID\n",
    "```\n",
    "\n",
    "and blocks like the following\n",
    "\n",
    "```text\n",
    "1 NP_663777.1  NP_001233.1\n",
    ">NP_663777.1\n",
    "MESSKKMDSPGALQTNPPLKLHTDRSAGTPVFVPEQGGYKEKFVKTVEDKYKCEKCHLVLCSPKQTECGHRFCESCMAALLSSSSPKCTACQESIVKDKVFKDNCCKREILALQIYCRNESRGCAEQLMLGHLLVHLKNDCHFEELPCVRPDCKEKVLRKDLRDHVEKACKYREATCSHCKSQVPMIALQKHEDTDCPCVVVSCPHKCSVQTLLRSELSAHLSECVNAPSTCSFKRYGCVFQGTNQQIKAHEASSAVQHVNLLKEWSNSLEKKVSLLQNESVEKNKSIQSLHNQICSFEIEIERQKEMLRNNESKILHLQRVIDSQAEKLKELDKEIRPFRQNWEEADSMKSSVESLQNRVTELESVDKSAGQVARNTGLLESQLSRHDQMLSVHDIRLADMDLRFQVLETASYNGVLIWKIRDYKRRKQEAVMGKTLSLYSQPFYTGYFGYKMCARVYLNGDGMGKGTHLSLFFVIMRGEYDALLPWPFKQKVTLMLMDQGSSRRHLGDAFKPDPNSSSFKKPTGEMNIASGCPVFVAQTVLENGTYIKDDTIFIKVIVDTSDLPDP\n",
    ">NP_001233.1\n",
    "MARPHPWWLCVLGTLVGLSATPAPKSCPERHYWAQGKLCCQMCEPGTFLVKDCDQHRKAAQCDPCIPGVSFSPDHHTRPHCESCRHCNSGLLVRNCTITANAECACRNGWQCRDKECTECDPLPNPSLTARSSQALSPHPQPTHLPYVSEMLEARTAGHMQTLADFRQLPARTLSTHWPPQRSLCSSDFIRILVIFSGMFLVFTLAGALFLHQRRKYRSNKGESPVEPAEPCRYSCPREEEGSTIPIQEDYRKPEPACSP\n",
    "```\n",
    "\n",
    "In side each block, the first line is the index for the pair, and their\n",
    "[RefSeq](refseq) IDs. Then the next line will start with a `>` symbol and\n",
    "followed by the RefSeq ID of the first protein. The next line is the amino acid\n",
    "sequence of the protein in the one letter code. Similarly, the next 2 lines are\n",
    "for protein 2.\n",
    "\n",
    "[sjtu]: http://www.csbio.sjtu.edu.cn/bioinf/LR_PPI/Data.htm\n",
    "[refseq]: https://www.ncbi.nlm.nih.gov/refseq/"
   ]
  },
  {
   "cell_type": "markdown",
   "metadata": {},
   "source": [
    "### Process the Word documents\n",
    "\n",
    "Now I need find a programming way to deal with these two files. There are some\n",
    "Python packages for parsing MS Word documents, but I did not have good luck with\n",
    "it, possibly because these files are in the Word 2003 format.\n",
    "\n",
    "After some googling, I decided to give [antiword][antiword] a shot. You can\n",
    "easily install it via the package manager from your OS. \n",
    "\n",
    "```shell\n",
    "# download the MS Word file\n",
    "wget http://www.csbio.sjtu.edu.cn/bioinf/LR_PPI/Supp-A.doc\n",
    "# well, I use debian and ubuntu anyway...\n",
    "sudo apt update && apt install antiword\n",
    "# convert!\n",
    "antiword Supp-A.doc > Supp-A.txt\n",
    "```\n",
    "\n",
    "A very smooth process. It worked like a charm. The resulting `Supp-A.txt` is\n",
    "just a plaintext version of the Word document. The only difference is that the\n",
    "soft wrap in the Word document is now a hard wrap, meaning that the super long\n",
    "sequences will be break into multiple lines. This makes parsing the file a\n",
    "little bit more tedious. Before, you know that the sequence is always stored in\n",
    "one line.\n",
    "\n",
    "```text\n",
    "Online support information A\n",
    "There are 36,630 protein-protein pairs from total 9476 proteins, and the\n",
    "first column is protein ID from HPRD, the second column is the other\n",
    "protein ID and the two proteins constitute the positive Protein-protein\n",
    "interaction.\n",
    "\n",
    "Index        Protein_1_ID         protein_2_ID\n",
    "1 NP_663777.1  NP_001233.1\n",
    ">NP_663777.1\n",
    "MESSKKMDSPGALQTNPPLKLHTDRSAGTPVFVPEQGGYKEKFVKTVEDKYKCEKCHLVLCSPKQTECGHRFCESC\n",
    "MAALLSSSSPKCTACQESIVKDKVFKDNCCKREILALQIYCRNESRGCAEQLMLGHLLVHLKNDCHFEELPCVRPD\n",
    "CKEKVLRKDLRDHVEKACKYREATCSHCKSQVPMIALQKHEDTDCPCVVVSCPHKCSVQTLLRSELSAHLSECVNA\n",
    "PSTCSFKRYGCVFQGTNQQIKAHEASSAVQHVNLLKEWSNSLEKKVSLLQNESVEKNKSIQSLHNQICSFEIEIER\n",
    "QKEMLRNNESKILHLQRVIDSQAEKLKELDKEIRPFRQNWEEADSMKSSVESLQNRVTELESVDKSAGQVARNTGL\n",
    "LESQLSRHDQMLSVHDIRLADMDLRFQVLETASYNGVLIWKIRDYKRRKQEAVMGKTLSLYSQPFYTGYFGYKMCA\n",
    "RVYLNGDGMGKGTHLSLFFVIMRGEYDALLPWPFKQKVTLMLMDQGSSRRHLGDAFKPDPNSSSFKKPTGEMNIAS\n",
    "GCPVFVAQTVLENGTYIKDDTIFIKVIVDTSDLPDP\n",
    ">NP_001233.1\n",
    "MARPHPWWLCVLGTLVGLSATPAPKSCPERHYWAQGKLCCQMCEPGTFLVKDCDQHRKAAQCDPCIPGVSFSPDHH\n",
    "TRPHCESCRHCNSGLLVRNCTITANAECACRNGWQCRDKECTECDPLPNPSLTARSSQALSPHPQPTHLPYVSEML\n",
    "EARTAGHMQTLADFRQLPARTLSTHWPPQRSLCSSDFIRILVIFSGMFLVFTLAGALFLHQRRKYRSNKGESPVEP\n",
    "AEPCRYSCPREEEGSTIPIQEDYRKPEPACSP\n",
    "```\n",
    "\n",
    "[antiword]: https://linux.die.net/man/1/antiword"
   ]
  },
  {
   "cell_type": "markdown",
   "metadata": {},
   "source": [
    "Anyway, once we have a plaintext file, reading it is always easy. After some\n",
    "tweaking, I came up with this way of reading the file."
   ]
  },
  {
   "cell_type": "markdown",
   "metadata": {},
   "source": [
    "Let us load necessary packages first."
   ]
  },
  {
   "cell_type": "code",
   "execution_count": 1,
   "metadata": {},
   "outputs": [],
   "source": [
    "from copy import deepcopy\n",
    "\n",
    "import matplotlib.pyplot as plt\n",
    "import numpy as np\n",
    "import pandas as pd\n",
    "import torch\n",
    "from torch.utils.data import DataLoader, TensorDataset, random_split"
   ]
  },
  {
   "cell_type": "code",
   "execution_count": 2,
   "metadata": {},
   "outputs": [],
   "source": [
    "def read_sequence():\n",
    "    digits = {}\n",
    "    for i in range(9):\n",
    "        digits[str(i + 1)] = \"\"\n",
    "    files = [\"Supp-A.txt\", \"Supp-B.txt\"]\n",
    "    types = [1, 0]\n",
    "    skip_lines = [9, 8]\n",
    "    pairs = []\n",
    "    proteins = {}\n",
    "    interactions = []\n",
    "    for _, file in enumerate(files):\n",
    "        count = 0\n",
    "        eof=False\n",
    "        with open(file, \"r\") as doc:\n",
    "            print(file)\n",
    "            for i in range(skip_lines[_]):\n",
    "                line = doc.readline()\n",
    "            while True:\n",
    "                ids = line.split()[1:]\n",
    "                pairs.append(ids)\n",
    "                # \">ID1\" line\n",
    "                line = doc.readline()\n",
    "                for i, id in enumerate(ids):\n",
    "                    # read sequence for the first protein\n",
    "                    sequence = \"\"\n",
    "                    while True:\n",
    "                        line = doc.readline()\n",
    "                        # break when 1. \">ID2\" or next pair or EOF is read\n",
    "                        if not line or line[0] == \">\" or line[0] in digits:\n",
    "                            if id not in proteins:\n",
    "                                proteins[id] = sequence\n",
    "                            if not line:\n",
    "                                eof=True\n",
    "                            elif line[0] == \">\":\n",
    "                                count += 1\n",
    "                            break\n",
    "                        sequence += line.rstrip(\"\\n\")\n",
    "                    # print(count, id, sequence)\n",
    "                    if eof:\n",
    "                        break\n",
    "                if eof:\n",
    "                    interactions += [types[_]] * count\n",
    "                    break\n",
    "    return proteins, pairs, interactions"
   ]
  },
  {
   "cell_type": "code",
   "execution_count": 3,
   "metadata": {},
   "outputs": [
    {
     "name": "stdout",
     "output_type": "stream",
     "text": [
      "Supp-A.txt\n",
      "Supp-B.txt\n"
     ]
    }
   ],
   "source": [
    "proteins, pairs, interactions = read_sequence()"
   ]
  },
  {
   "cell_type": "markdown",
   "metadata": {},
   "source": [
    "It is a little tricky to make a script to read the script fully automatically. I\n",
    "guess I will add some comments over here later. The resulting sequences need to\n",
    "be further processed before we can use them.\n",
    "\n",
    "One common thing people in this field do is to exclude all sequences below 50\n",
    "amino acids and remove all sequences with non-canonical amino acids, for\n",
    "example, in [this paper][ctac]. \n",
    "\n",
    "[ctac]: https://pubmed.ncbi.nlm.nih.gov/31029609/"
   ]
  },
  {
   "cell_type": "code",
   "execution_count": 4,
   "metadata": {},
   "outputs": [],
   "source": [
    "# use the dictionary `to_remove` to store any protein ID that follows in the two criteria above\n",
    "to_remove = {}\n",
    "for k, v in proteins.items():\n",
    "    if len(v) < 50:\n",
    "        to_remove[k] = \"\"\n",
    "        continue\n",
    "    # I have checked the sequences, the only \"non-canonical\" is \"U\" which is selenocysteine\n",
    "    for l in v:\n",
    "        if l == \"U\":\n",
    "            to_remove[k] = \"\""
   ]
  },
  {
   "cell_type": "markdown",
   "metadata": {},
   "source": [
    "Then if the keys in `to_remove` show up in any pair, we remove the pair and\n",
    "their interaction value from the lists."
   ]
  },
  {
   "cell_type": "code",
   "execution_count": 5,
   "metadata": {},
   "outputs": [],
   "source": [
    "for i in range(len(pairs) - 1, -1, -1):\n",
    "    id1, id2 = pairs[i]\n",
    "    if id1 in to_remove or id2 in to_remove:\n",
    "        del pairs[i], interactions[i]\n",
    "for k in to_remove.keys():\n",
    "    proteins.pop(k)"
   ]
  },
  {
   "cell_type": "markdown",
   "metadata": {},
   "source": [
    "Then I would like to save the processed data as csv files, though I never use\n",
    "them really..."
   ]
  },
  {
   "cell_type": "code",
   "execution_count": 6,
   "metadata": {},
   "outputs": [],
   "source": [
    "ppi = {}\n",
    "for i, (pair, value) in enumerate(zip(pairs, interactions)):\n",
    "    ppi[i] = {\"protein 1\": pair[0], \"protein 2\": pair[1], \"interaction\": value}\n",
    "protein_df = pd.DataFrame(proteins, index=[0]).transpose()\n",
    "protein_df.columns = [\"sequence\"]\n",
    "interaction_df = pd.DataFrame(ppi).transpose()\n",
    "protein_df.to_csv(\"proteins.csv\")\n",
    "interaction_df.to_csv(\"ppi.csv\")"
   ]
  },
  {
   "cell_type": "markdown",
   "metadata": {},
   "source": [
    "Next, I would like to find a percentile to truncate long sequences. The reason\n",
    "to do it is that vast majority of the sequences are very short (a few hundred),\n",
    "but there are some very long outliers (for example, > 30K). If you allocate a\n",
    "tensor based on the longest sequence, the drawback is obvious. The tensor will\n",
    "be very sparse. As a result, it is wise to cut these long sequences."
   ]
  },
  {
   "cell_type": "markdown",
   "metadata": {},
   "source": [
    "Loop through all sequences and get the length of the sequence at 95% percentile."
   ]
  },
  {
   "cell_type": "code",
   "execution_count": 7,
   "metadata": {},
   "outputs": [],
   "source": [
    "seq_len = []\n",
    "for v in proteins.values():\n",
    "    seq_len.append(len(v))\n",
    "length = int(np.percentile(seq_len, np.arange(0, 100, 5))[-1])"
   ]
  },
  {
   "cell_type": "markdown",
   "metadata": {},
   "source": [
    "Next, convert the strings of all sequences to a tensor of integers based on ASC\n",
    "II. Note that here we have the tensor of sequences, not pairs yet."
   ]
  },
  {
   "cell_type": "code",
   "execution_count": 8,
   "metadata": {},
   "outputs": [],
   "source": [
    "sequences = torch.zeros((len(proteins), length), dtype=int)\n",
    "for i, v in enumerate(proteins.values()):\n",
    "    for j in range(len(v) if length > len(v) else length):\n",
    "        sequences[i, j] = ord(v[j]) - 64"
   ]
  },
  {
   "cell_type": "markdown",
   "metadata": {},
   "source": [
    "Then we can build the tensors for the pairs. `protein1` and `protein2` are the\n",
    "sequences of the first and second proteins in each pair. `targets` is the tensor\n",
    "of labels for whether the pair is interacting or not. I am doing a manual\n",
    "one-hot encoder here. Of course you can ask `torch` to do it. Not sure why I\n",
    "wanted to do it manually.\n"
   ]
  },
  {
   "cell_type": "markdown",
   "metadata": {},
   "source": [
    "Here I build another helper dictionary called `protein_idx` just to quickly\n",
    "locate the index of each protein in `sequences`. ($O(1)$ for a hashtable and\n",
    "$O(n)$ for a list)"
   ]
  },
  {
   "cell_type": "code",
   "execution_count": 9,
   "metadata": {},
   "outputs": [],
   "source": [
    "protein_idx = {}\n",
    "count = 0\n",
    "for k in proteins.keys():\n",
    "    protein_idx[k] = count\n",
    "    count += 1"
   ]
  },
  {
   "cell_type": "code",
   "execution_count": 10,
   "metadata": {},
   "outputs": [],
   "source": [
    "targets = torch.zeros((len(interactions), 2), dtype=torch.float)\n",
    "protein1 = torch.empty((len(interactions), length), dtype=torch.int64)\n",
    "protein2 = torch.empty((len(interactions), length), dtype=torch.int64)\n",
    "for i, (pair, value) in enumerate(zip(pairs, interactions)):\n",
    "    targets[i, value] = 1\n",
    "    protein1[i] = sequences[protein_idx[pair[0]]]\n",
    "    protein2[i] = sequences[protein_idx[pair[1]]]"
   ]
  },
  {
   "cell_type": "markdown",
   "metadata": {},
   "source": [
    "We have got all the tensors we need, so we can easily assemble a dataset with\n",
    "torch's `TensorDataset` class."
   ]
  },
  {
   "cell_type": "code",
   "execution_count": 11,
   "metadata": {},
   "outputs": [],
   "source": [
    "dataset = TensorDataset(protein1, protein2, targets)"
   ]
  },
  {
   "cell_type": "markdown",
   "metadata": {},
   "source": [
    "After this, we will start to build our network. Please check out the section\n",
    "part of this post over [here](/posts/protein_protein_interaction_p2/)."
   ]
  }
 ],
 "metadata": {
  "kernelspec": {
   "display_name": "base",
   "language": "python",
   "name": "python3"
  },
  "language_info": {
   "codemirror_mode": {
    "name": "ipython",
    "version": 3
   },
   "file_extension": ".py",
   "mimetype": "text/x-python",
   "name": "python",
   "nbconvert_exporter": "python",
   "pygments_lexer": "ipython3",
   "version": "3.1.0"
  }
 },
 "nbformat": 4,
 "nbformat_minor": 2
}

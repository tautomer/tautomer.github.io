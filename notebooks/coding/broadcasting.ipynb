{
 "cells": [
  {
   "cell_type": "markdown",
   "metadata": {},
   "source": [
    "# On a \"silent shape bug\": A bug goes unnoticed due to broadcasting"
   ]
  },
  {
   "cell_type": "markdown",
   "metadata": {},
   "source": [
    "Ok, let's do a quick post on an annoying bug I encountered today.\n",
    "\n",
    "Recently, I have been working on some algorithms for Bayesian optimization. As I\n",
    "have been extensively benchmarking my new implementations against existing\n",
    "methods, I noticed a strange behavior. In a certain setup, the output of the\n",
    "function is completely horizontal, which by no means is the expected behavior.\n",
    "\n",
    "I was absolutely clueless initially, as I have been working on this code for\n",
    "several weeks and the results were generally good. After hours of debugging, I\n",
    "realized the problem was due to a mismatch in the shapes of two tensors\n",
    "introduced by a wrong call of `squeeze()`."
   ]
  },
  {
   "cell_type": "markdown",
   "metadata": {},
   "source": [
    "## Demonstration of the unexpected broadcasting"
   ]
  },
  {
   "cell_type": "markdown",
   "metadata": {},
   "source": [
    "Say I have two tensors `x` and `y`. Both are two-dimensional with the same\n",
    "shape. At the end of the numerical expression, we reduce the last dimension by\n",
    "taking the mean value along that dimension."
   ]
  },
  {
   "cell_type": "code",
   "execution_count": 1,
   "metadata": {},
   "outputs": [
    {
     "name": "stdout",
     "output_type": "stream",
     "text": [
      "x: torch.Size([10, 1])\n",
      "y: torch.Size([10, 1])\n",
      "z: torch.Size([10, 1])\n",
      "w: torch.Size([10])\n"
     ]
    }
   ],
   "source": [
    "import torch\n",
    "\n",
    "x = torch.empty((10, 1))\n",
    "y = torch.empty((10, 1))\n",
    "z = x + y\n",
    "w = z.mean(dim=-1)\n",
    "\n",
    "print(f\"x: {x.shape}\")\n",
    "print(f\"y: {y.shape}\")\n",
    "print(f\"z: {z.shape}\")\n",
    "print(f\"w: {w.shape}\")"
   ]
  },
  {
   "cell_type": "markdown",
   "metadata": {},
   "source": [
    "We simply do an element-wise addition of `x` and `y`, and then take the mean\n",
    "along the last dimension. The final result `w` should be a one-dimensional\n",
    "tensor.\n",
    "\n",
    "Now, let's assume we *mildly* screw up a little bit in the dimensionalities."
   ]
  },
  {
   "cell_type": "code",
   "execution_count": 2,
   "metadata": {},
   "outputs": [
    {
     "name": "stdout",
     "output_type": "stream",
     "text": [
      "x2: torch.Size([10])\n",
      "y2: torch.Size([10, 1])\n",
      "z2: torch.Size([10, 10])\n",
      "w2: torch.Size([10])\n"
     ]
    }
   ],
   "source": [
    "x2 = torch.empty(10)\n",
    "y2 = torch.empty((10, 1))\n",
    "z2 = x2 + y2\n",
    "w2 = z2.mean(dim=-1)\n",
    "\n",
    "print(f\"x2: {x2.shape}\")\n",
    "print(f\"y2: {y2.shape}\")\n",
    "print(f\"z2: {z2.shape}\")\n",
    "print(f\"w2: {w2.shape}\")"
   ]
  },
  {
   "cell_type": "markdown",
   "metadata": {},
   "source": [
    "Because `x2` is only one-dimensional, `z2 = x2 + y2` becomes a broadcasted addition,\n",
    "instead of element-wise. While the resulting tensor `z2` has a wrong shape of\n",
    "(10, 10), the next step is immediately a dimension reduction, which produces a\n",
    "tensor `w2` of the current shape. However, the math behind is completely wrong.\n",
    "\n",
    "Because this broadcasted version is programmingly valid, no error is raised. As\n",
    "for the numerical side, it is hard to notice as well.\n",
    "\n",
    "The fist version, \n",
    "\n",
    "$$w_i = x_i + y_i$$\n",
    "\n",
    "While the second version,\n",
    "\n",
    "$$w2_i = y2_i + \\bar{x2}$$\n",
    "\n",
    "Apparently, the difference can be small, when one tensor is dominating or `x` is\n",
    "close to degenerate. Especially in the context of Bayesian optimization, lots of\n",
    "tensor operations are involved, and the \"correct\" values are not immediately\n",
    "clear to the user. To make it worse, many tensors are not explicitly exposed to\n",
    "the user unless the user is digging into the code. All in all, there is no easy\n",
    "way to tell the numbers are numerically wrong.\n",
    "\n",
    "I was lucky enough that I was dealing with an edge case where `y` is 0, so\n",
    "instead of getting `w = x`, I got `w2 = mean(x)`, whose elements are a constant\n",
    "value. This was way too obvious that something was wrong.\n",
    "\n",
    "\n",
    "As for the root cause? A wrong call of `squeeze()` in another function.\n",
    "\n",
    "```python\n",
    "import torch\n",
    "\n",
    "def some_func(x):\n",
    "    # do something here\n",
    "    return x.squeeze(-1)\n",
    "\n",
    "\n",
    "# some dozens of lines of code here\n",
    "\n",
    "\n",
    "x = torch.empty((10, 1))\n",
    "y = torch.empty((10, 1))\n",
    "x_new = some_func(x)  # x_new has shape (10,)\n",
    "z = x + y\n",
    "w = z.mean(dim=-1)\n",
    "```\n",
    "\n",
    "I was happily assuming `x_new` was still of shape (10, 1) for weeks..."
   ]
  },
  {
   "cell_type": "markdown",
   "metadata": {},
   "source": [
    "## Thoughts?"
   ]
  },
  {
   "cell_type": "markdown",
   "metadata": {},
   "source": [
    "As you can see, this can go unnoticed fairly easily. Due to the random nature of\n",
    "the Gaussian processes (I use deterministic random numbers, but still the whole\n",
    "outcome is \"unknown\" to me), it is really hard to know that there is a hidden\n",
    "mathematical bug.\n",
    "\n",
    "I will probably add some `assert` statements here and there to make sure the\n",
    "dimensions are always intended. Another way is to use type annotations like\n",
    "`jaxtyping` instead of relying on static linters."
   ]
  }
 ],
 "metadata": {
  "kernelspec": {
   "display_name": "torch",
   "language": "python",
   "name": "python3"
  },
  "language_info": {
   "codemirror_mode": {
    "name": "ipython",
    "version": 3
   },
   "file_extension": ".py",
   "mimetype": "text/x-python",
   "name": "python",
   "nbconvert_exporter": "python",
   "pygments_lexer": "ipython3",
   "version": "3.13.5"
  }
 },
 "nbformat": 4,
 "nbformat_minor": 2
}
